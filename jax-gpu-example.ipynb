{
 "cells": [
  {
   "cell_type": "markdown",
   "metadata": {},
   "source": [
    "## Short guide on using Jax and diffrax in QuTiP\n",
    "neill lambert  https://github.com/nwlambert/QuTiP-Jax-GPU-example\n",
    "\n",
    "With the new Jax data layer using Jax and GPU acceleration in QuTiP is now feasible. In this\n",
    "notebook we will explain the steps to get this to work, including installation.\n",
    "\n",
    "Note that these steps we performed using Windows Subsystems for Linux v2 on windows 11.\n",
    "Your milage may vary with the CUDA steps on other platforms!\n",
    "\n",
    "Firstly, follow the installation guide for QuTiP v5 at www.qutip.org with \n",
    "'pip install qutip'\n",
    "\n",
    "Then install qutip-jax data layer with\n",
    "'pip install git+https://github.com/qutip/qutip-jax.git'\n",
    "\n",
    "For more infromation on the data layer see https://qutip-jax.readthedocs.io/en/latest/index.html\n",
    "and the notebook https://github.com/qutip/qutip-tutorials/blob/main/tutorials-v5/miscellaneous/JAX_backend.md\n",
    "\n",
    "To actually use the GPU mode in jax you will need to install the correct Jax CUDA version:\n",
    "\n",
    "'pip install --upgrade \"jax[cuda12_pip]\" -f https://storage.googleapis.com/jax-releases/jax_cuda_releases.html'\n",
    "\n",
    "This is a point where you might have issues!\n",
    "\n",
    "Next, lets try importing everything and see if it works..."
   ]
  },
  {
   "cell_type": "code",
   "execution_count": 11,
   "metadata": {},
   "outputs": [],
   "source": [
    "import time\n",
    "import qutip as qt\n",
    "import numpy as np\n",
    "import jax.numpy as jnp\n",
    "import matplotlib.pyplot as plt\n",
    "\n",
    "import qutip_jax\n",
    "import jax\n",
    "from diffrax import diffeqsolve, ODETerm, Dopri5, PIDController, ConstantStepSize,  Tsit5\n",
    "\n",
    "#pip install --upgrade \"jax[cuda12_pip]\" -f https://storage.googleapis.com/jax-releases/jax_cuda_releases.html"
   ]
  },
  {
   "cell_type": "markdown",
   "metadata": {},
   "source": [
    "To demonstrate how to use mesolve or sesolve with jax and a gpu we construct a simple 1D ising model example. \n",
    "This allows us to check run time as a function of system size"
   ]
  },
  {
   "cell_type": "code",
   "execution_count": 2,
   "metadata": {},
   "outputs": [],
   "source": [
    "\n",
    "def Ising_solve(N, g0, J0, gamma, tlist, options, data_type = 'csr'):\n",
    "    #N: number of spins\n",
    "    #g0: energy splitting\n",
    "    #J0: nearest neighbour coupling\n",
    "    #gamma: single decay rate\n",
    "    #tlist: list of time steps\n",
    "    #options: ode options\n",
    "    #data_type: string for data type to use\n",
    "\n",
    "    # Setup operators for individual qubits  \n",
    "\n",
    "    g = g0 * np.ones(N) # Energy splitting term\n",
    "    J = J0 * np.ones(N) # Interaction coefficients\n",
    "    sx_list, sy_list, sz_list = [], [], []\n",
    "\n",
    "    for i in range(N):\n",
    "        op_list = [qt.qeye(2)] * N\n",
    "        op_list[i] = qt.sigmax().to(data_type) \n",
    "        sx_list.append(qt.tensor(op_list))\n",
    "        op_list[i] = qt.sigmay().to(data_type) \n",
    "        sy_list.append(qt.tensor(op_list))\n",
    "        op_list[i] = qt.sigmaz().to(data_type) \n",
    "        sz_list.append(qt.tensor(op_list))\n",
    " \n",
    "\n",
    "\n",
    "    # Hamiltonian - Energy splitting terms\n",
    "    H = 0.\n",
    "    for i in range(N):\n",
    "        H += g[i] * sz_list[i]\n",
    "\n",
    "    # Interaction terms\n",
    "    for n in range(N - 1):\n",
    "        H += -J[n] * sx_list[n] * sx_list[n + 1]\n",
    "\n",
    "    #dissipation (just on final spin)\n",
    "    if gamma>0.:\n",
    "        if data_type == 'jaxdia':\n",
    "            c_ops = [jnp.sqrt(gamma) * sx_list[N-1]]  \n",
    "        else:\n",
    "            c_ops = [np.sqrt(gamma) * sx_list[N-1]]  \n",
    "    else:\n",
    "        c_ops = []\n",
    "\n",
    "    state_list = [qt.basis(2, 0)] * (N)\n",
    "    psi0 = qt.tensor(state_list)\n",
    "    H.isherm\n",
    "    sz_list[-1].isherm\n",
    "    e_ops = [sz_list[-1]]\n",
    "    result = qt.mesolve(H,psi0, tlist, c_ops, e_ops=e_ops, options=options)\n",
    "\n",
    "    return result, result.e_data[0]\n"
   ]
  },
  {
   "cell_type": "markdown",
   "metadata": {},
   "source": [
    "First lets run this for default QuTiP, without dissipation, for a single choice of number of spins $N=17$"
   ]
  },
  {
   "cell_type": "code",
   "execution_count": 3,
   "metadata": {},
   "outputs": [
    {
     "name": "stdout",
     "output_type": "stream",
     "text": [
      "N= 17\n"
     ]
    }
   ],
   "source": [
    " \n",
    "#default qutip\n",
    "run_time_list_cpu_sesolve_qutip = []\n",
    "results_list_cpu_sesolve_qutip = []\n",
    "\n",
    "g0 = 1\n",
    "J0 = 1.4\n",
    "gamma = 0.\n",
    "tlist = np.linspace(0,50,100)\n",
    "\n",
    "options = {\"normalize_output\": False, \"atol\": 1e-6, \"rtol\": 1e-6, \"progress_bar\":\"\"} \n",
    "\n",
    "N_list = [17] #just a single data point here, to save time\n",
    "\n",
    "for N in N_list:\n",
    "    print(\"N=\", N)\n",
    "    result_cpu, sz = Ising_solve(N,  g0, J0, gamma, tlist, options)\n",
    "    run_time_list_cpu_sesolve_qutip.append(result_cpu.stats['run time'])\n",
    "    results_list_cpu_sesolve_qutip.append(sz)\n",
    "          \n",
    "            \n"
   ]
  },
  {
   "cell_type": "markdown",
   "metadata": {},
   "source": [
    "to do the same with Jax data layer and using the GPU we take advantage of two useful 'with' statements, one sets most objects in qutip to use the \n",
    "'jaxdia' data format, and the other tells Jax to use the GPU device (to run on CPU instead, one can just replace gpu with cpu).\n",
    "\n",
    "With sesolve or mesolve we have to use the method = 'diffrax'.  This takes options similar to standard methods.\n",
    "\n",
    "One point; we could also use the Jax dense data format here, but the custom Dia sparse format available in qutip allows us to go to much larger system sizes, \n",
    "where the advantage of using a GPU to solve ODES becomes apparent.\n"
   ]
  },
  {
   "cell_type": "code",
   "execution_count": 4,
   "metadata": {},
   "outputs": [
    {
     "name": "stderr",
     "output_type": "stream",
     "text": [
      "/home/neill/anaconda3/envs/qutip5pip/lib/python3.12/site-packages/equinox/_jit.py:49: UserWarning: Complex dtype support is work in progress, please read https://github.com/patrick-kidger/diffrax/pull/197 and proceed carefully.\n",
      "  out = fun(*args, **kwargs)\n",
      "/home/neill/anaconda3/envs/qutip5pip/lib/python3.12/site-packages/equinox/_jit.py:49: UserWarning: Complex dtype support is work in progress, please read https://github.com/patrick-kidger/diffrax/pull/197 and proceed carefully.\n",
      "  out = fun(*args, **kwargs)\n"
     ]
    }
   ],
   "source": [
    "\n",
    "run_time_list_gpu_sesolve_jaxdia = []\n",
    "results_list_gpu_sesolve_jaxdia = []\n",
    "#Jaxdia version\n",
    "\n",
    "with jax.default_device(jax.devices(\"gpu\")[0]):\n",
    "    with qt.CoreOptions(default_dtype=\"jaxdia\"):\n",
    "\n",
    "        g0 = 1\n",
    "        J0 = 1.4\n",
    "        gamma = 0.\n",
    "        \n",
    "        tlist = np.linspace(0,50,100)\n",
    "        options = {\"method\": \"diffrax\", \"normalize_output\": False, \"stepsize_controller\" : PIDController(rtol=1e-6, atol=1e-6), \"solver\": Tsit5(), \"progress_bar\":\"\"}\n",
    "        N_list = [17]\n",
    "        run_time_list_gpu = []\n",
    "        for N in N_list:\n",
    "            result_gpu, sz = Ising_solve(N,  g0, J0, gamma, tlist, options, data_type = 'jaxdia')\n",
    "            \n",
    "            run_time_list_gpu_sesolve_jaxdia.append(result_gpu.stats['run time'])\n",
    "            results_list_gpu_sesolve_jaxdia.append(sz)\n",
    "          \n",
    "            \n"
   ]
  },
  {
   "cell_type": "markdown",
   "metadata": {},
   "source": [
    "Next we do a case with dissipation, slightly smaller system size $N=9$"
   ]
  },
  {
   "cell_type": "code",
   "execution_count": 5,
   "metadata": {},
   "outputs": [
    {
     "name": "stdout",
     "output_type": "stream",
     "text": [
      "N= 9\n"
     ]
    }
   ],
   "source": [
    " \n",
    "#default qutip, with disspation (mesolve)\n",
    "run_time_list_cpu_mesolve_qutip = []\n",
    "results_list_cpu_mesolve_qutip = []\n",
    "\n",
    "\n",
    "g0 = 1\n",
    "J0 = 1.4\n",
    "gamma = 0.1\n",
    "tlist = np.linspace(0,50,100)\n",
    "\n",
    "options = {\"normalize_output\": False, \"atol\": 1e-6, \"rtol\": 1e-6, \"progress_bar\":\"\"} \n",
    "\n",
    "N_list = [9]\n",
    "for N in N_list:\n",
    "    print(\"N=\", N)\n",
    "    result_cpu, sz = Ising_solve(N,  g0, J0, gamma, tlist, options)\n",
    "    run_time_list_cpu_mesolve_qutip.append(result_cpu.stats['run time'])\n",
    "    results_list_cpu_mesolve_qutip.append(sz)\n",
    "          \n",
    "            \n",
    "\n"
   ]
  },
  {
   "cell_type": "code",
   "execution_count": 6,
   "metadata": {},
   "outputs": [
    {
     "name": "stderr",
     "output_type": "stream",
     "text": [
      "/home/neill/anaconda3/envs/qutip5pip/lib/python3.12/site-packages/equinox/_jit.py:49: UserWarning: Complex dtype support is work in progress, please read https://github.com/patrick-kidger/diffrax/pull/197 and proceed carefully.\n",
      "  out = fun(*args, **kwargs)\n",
      "/home/neill/anaconda3/envs/qutip5pip/lib/python3.12/site-packages/equinox/_jit.py:49: UserWarning: Complex dtype support is work in progress, please read https://github.com/patrick-kidger/diffrax/pull/197 and proceed carefully.\n",
      "  out = fun(*args, **kwargs)\n"
     ]
    }
   ],
   "source": [
    " \n",
    "\n",
    "run_time_list_gpu_mesolve_jaxdia = []\n",
    "results_list_gpu_mesolve_jaxdia = []\n",
    "#Jaxdia version\n",
    "\n",
    "with jax.default_device(jax.devices(\"gpu\")[0]):\n",
    "    with qt.CoreOptions(default_dtype=\"jaxdia\"):\n",
    "\n",
    "        g0 = 1\n",
    "        J0 = 1.4\n",
    "        gamma = 0.1\n",
    "        tlist = np.linspace(0,50,100)\n",
    "\n",
    "        options = {\"method\": \"diffrax\", \"normalize_output\": False, \"stepsize_controller\" : PIDController(rtol=1e-6, atol=1e-6), \"solver\": Tsit5(), \"progress_bar\":\"\"}\n",
    "\n",
    "        N_list = [9]\n",
    "        run_time_list_gpu = []\n",
    "        for N in N_list:\n",
    "            result_gpu, sz  = Ising_solve(N,  g0, J0, gamma, tlist, options, data_type = 'jaxdia')\n",
    "            \n",
    "            run_time_list_gpu_mesolve_jaxdia.append(result_gpu.stats['run time'])\n",
    "            results_list_gpu_mesolve_jaxdia.append(sz)\n",
    "          \n",
    "            \n"
   ]
  },
  {
   "cell_type": "markdown",
   "metadata": {},
   "source": [
    "Lets compare the run times. These are the times reported by the solver itself, and don't include setup.  For smaller system sizes (not shown here) normal qutip will\n",
    "outperform jax+diffrax.  For large sizes we see substantial benefit with jax+diffrax."
   ]
  },
  {
   "cell_type": "code",
   "execution_count": 13,
   "metadata": {},
   "outputs": [
    {
     "name": "stdout",
     "output_type": "stream",
     "text": [
      "cpu sesolve: [81.47192883491516]\n",
      "gpu sesolve: [21.430046319961548]\n"
     ]
    }
   ],
   "source": [
    "\n",
    "print(\"cpu sesolve:\", run_time_list_cpu_sesolve_qutip)\n",
    "print(\"gpu sesolve:\", run_time_list_gpu_sesolve_jaxdia)"
   ]
  },
  {
   "cell_type": "code",
   "execution_count": 14,
   "metadata": {},
   "outputs": [
    {
     "name": "stdout",
     "output_type": "stream",
     "text": [
      "cpu mesolve: [173.7914116382599]\n",
      "gpu mesolve: [50.78608584403992]\n"
     ]
    }
   ],
   "source": [
    "print(\"cpu mesolve:\",run_time_list_cpu_mesolve_qutip)\n",
    "print(\"gpu mesolve:\",run_time_list_gpu_mesolve_jaxdia)"
   ]
  },
  {
   "cell_type": "markdown",
   "metadata": {},
   "source": [
    "Note that you will be limited on system size by the GPU memory you have available.\n",
    "\n",
    "\n",
    "\n",
    "Another nice feature of Jax is auto differentiation. For example, by wrapping the example above in \n",
    "a function which just returns an expectation value, we can then find gradients of that observable as \n",
    "a function of various parameters    "
   ]
  },
  {
   "cell_type": "code",
   "execution_count": 9,
   "metadata": {},
   "outputs": [
    {
     "name": "stderr",
     "output_type": "stream",
     "text": [
      "/home/neill/anaconda3/envs/qutip5pip/lib/python3.12/site-packages/equinox/_jit.py:49: UserWarning: Complex dtype support is work in progress, please read https://github.com/patrick-kidger/diffrax/pull/197 and proceed carefully.\n",
      "  out = fun(*args, **kwargs)\n",
      "/home/neill/anaconda3/envs/qutip5pip/lib/python3.12/site-packages/equinox/_jit.py:49: UserWarning: Complex dtype support is work in progress, please read https://github.com/patrick-kidger/diffrax/pull/197 and proceed carefully.\n",
      "  out = fun(*args, **kwargs)\n",
      "/home/neill/anaconda3/envs/qutip5pip/lib/python3.12/site-packages/equinox/_jit.py:49: UserWarning: Complex dtype support is work in progress, please read https://github.com/patrick-kidger/diffrax/pull/197 and proceed carefully.\n",
      "  out = fun(*args, **kwargs)\n",
      "/home/neill/anaconda3/envs/qutip5pip/lib/python3.12/site-packages/equinox/_jit.py:49: UserWarning: Complex dtype support is work in progress, please read https://github.com/patrick-kidger/diffrax/pull/197 and proceed carefully.\n",
      "  out = fun(*args, **kwargs)\n",
      "/home/neill/anaconda3/envs/qutip5pip/lib/python3.12/site-packages/equinox/_jit.py:49: UserWarning: Complex dtype support is work in progress, please read https://github.com/patrick-kidger/diffrax/pull/197 and proceed carefully.\n",
      "  out = fun(*args, **kwargs)\n",
      "/home/neill/anaconda3/envs/qutip5pip/lib/python3.12/site-packages/equinox/_jit.py:49: UserWarning: Complex dtype support is work in progress, please read https://github.com/patrick-kidger/diffrax/pull/197 and proceed carefully.\n",
      "  out = fun(*args, **kwargs)\n"
     ]
    }
   ],
   "source": [
    "\n",
    "energy_list =[]\n",
    "with jax.default_device(jax.devices(\"gpu\")[0]):\n",
    "    with qt.CoreOptions(default_dtype=\"jaxdia\"):\n",
    "        def wrap(tlist,J0):\n",
    "            g0 = 1\n",
    "            gamma = 0.1\n",
    "            options = {\"method\": \"diffrax\", \"normalize_output\": False, \"stepsize_controller\" : PIDController(rtol=1e-6, atol=1e-6), \"solver\": Tsit5(), \"progress_bar\":\"\"}\n",
    "\n",
    "            N = 4\n",
    "            \n",
    "            result_gpu, sz  = Ising_solve(N,  g0, J0, gamma, tlist, options, data_type = 'jaxdia')\n",
    "            return sz\n",
    "        \n",
    "        tlist = jnp.linspace(0,5,100)\n",
    "        J0 = 1.4\n",
    "        grad_t_func = jax.jacrev(wrap,argnums=0)\n",
    "        grad_J0_func = jax.jacrev(wrap,argnums=1)\n",
    "        \n",
    "        val = wrap(tlist, J0)\n",
    "        grad_t = grad_t_func(tlist, J0)\n",
    "        grad_J0 = grad_J0_func(tlist, J0)\n",
    "        \n",
    "\n",
    "        \n",
    "          \n",
    "            \n"
   ]
  },
  {
   "cell_type": "code",
   "execution_count": 12,
   "metadata": {},
   "outputs": [
    {
     "data": {
      "text/plain": [
       "<matplotlib.legend.Legend at 0x7fe88fd4bc50>"
      ]
     },
     "execution_count": 12,
     "metadata": {},
     "output_type": "execute_result"
    },
    {
     "data": {
      "image/png": "[encoded data removed]",
      "text/plain": [
       "<Figure size 640x480 with 1 Axes>"
      ]
     },
     "metadata": {},
     "output_type": "display_data"
    }
   ],
   "source": [
    "\n",
    "#extract diaganals;\n",
    "grad_tlist_list_diags = [grad_t[i][i] for i in range(100)]\n",
    "\n",
    "fig, axes = plt.subplots(1, 1)\n",
    "axes.plot(tlist, val,'r',label =r\"$\\left< \\sigma_z^{(N)} \\right>$\" )\n",
    "axes.plot(tlist, grad_tlist_list_diags,'g--',label=r\"$d \\left<\\sigma_z^{(N)}\\right>/dt$\")\n",
    "axes.plot(tlist, grad_J0,'b--',label=r\"$d \\left<\\sigma_z^{(N)}\\right>/dJ_0$\")\n",
    "\n",
    "axes.set_xlabel(r\"$t$\", fontsize=20)\n",
    "axes.set_ylabel(r\"$\\left< \\sigma_z^{(N)} \\right>$\", fontsize=20);\n",
    "axes.legend()"
   ]
  },
  {
   "cell_type": "markdown",
   "metadata": {},
   "source": [
    "We can take gradients of any parameter by modifying the above code.\n",
    "\n",
    "Caveats; \n",
    "If you need higher order derivates, the second and higher must be done with jacfwd().\n",
    "what can and cant be autogradded and Jit'd is a little tricky sometimes.  Some guidelines are provided here\n",
    "https://github.com/qutip/qutip-tutorials/blob/main/tutorials-v5/miscellaneous/JAX_backend.md\n",
    "\n",
    "\n",
    "\n"
   ]
  },
  {
   "cell_type": "markdown",
   "metadata": {},
   "source": [
    "Other ways to take advantage of jax+gpu:\n",
    "\n",
    "Jax can be used to Jit functions, typically providing a big benefit if they are run multiple times\n",
    "\n",
    "Jax supports vmap, akin to numps vectorization, which allows for easy parralization of functions with vector inputs/outputs\n",
    "https://jax.readthedocs.io/en/latest/_autosummary/jax.vmap.html\n",
    "\n",
    "We are still exploring how it can assist in speeding up other solvers, particulary those relying on linear-solve functions, like steadystate.\n"
   ]
  }
 ],
 "metadata": {
  "kernelspec": {
   "display_name": "qutipjaxdia",
   "language": "python",
   "name": "python3"
  },
  "language_info": {
   "codemirror_mode": {
    "name": "ipython",
    "version": 3
   },
   "file_extension": ".py",
   "mimetype": "text/x-python",
   "name": "python",
   "nbconvert_exporter": "python",
   "pygments_lexer": "ipython3",
   "version": "3.12.2"
  }
 },
 "nbformat": 4,
 "nbformat_minor": 2
}
